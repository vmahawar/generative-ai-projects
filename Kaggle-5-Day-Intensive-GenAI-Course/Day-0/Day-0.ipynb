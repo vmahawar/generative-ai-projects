{
 "cells": [
  {
   "cell_type": "markdown",
   "metadata": {},
   "source": [
    "5-Day Gen AI Intensive Course with Google Learn Guide\n",
    "\n",
    "Our 2025 new course is currently open for registration! Learn more and register here: https://rsvp.withgoogle.com/events/google-generative-ai-intensive_2025q1\n",
    "\n",
    "Welcome to our 5-Day Gen AI Intensive Course with Google! This was a live event from November 11-15, 2024, now made available as a self-paced learning guide for anyone interested in learning more about the fundamental technologies and techniques behind Generative AI.\n",
    "\n",
    "What's covered:\n",
    "\n",
    "- Day 1: Foundational Models & Prompt Engineering - Explore the evolution of LLMs, from transformers to techniques like fine-tuning and inference acceleration. Get trained with the art of prompt engineering for optimal LLM interaction.\n",
    "- Day 2: Embeddings and Vector Stores/Databases - Learn about the conceptual underpinning of embeddings and vector databases, including embedding methods, vector search algorithms, and real-world applications with LLMs, as well as their tradeoffs.\n",
    "- Day 3: Generative AI Agents - Learn to build sophisticated AI agents by understanding their core components and the iterative development process.\n",
    "- Day 4: Domain-Specific LLMs - Delve into the creation and application of specialized LLMs like SecLM and Med-PaLM, with insights from the researchers who built them.\n",
    "- Day 5: MLOps for Generative AI - Discover how to adapt MLOps practices for Generative AI and leverage Vertex AI's tools for foundation models and generative AI applications.\n",
    "Best of Luck!\n",
    "\n",
    "Brought to you by Anant Nawalgaria, Mark McDonald, Paige Bailey, and many other contributors from Google.\n",
    "Other Resources\n",
    "Set Up\n",
    "Follow the following steps to get set up before diving into the daily assignments:\n",
    "\n",
    " 1. Sign up for a Kaggle account and learn how Notebooks work. Make sure to phone verify your account, it’s necessary for the course’s code labs.\n",
    " 2. Sign up for an AI Studio account and ensure you can generate an API key.\n",
    " 3. Sign up for a Discord account and join us on the Kaggle Discord server. Check out #5dgai-general-chat to find official course announcements and livestream recordings.\n",
    "Please note that if you would like to post on other channels on the Kaggle discord you will need to link your Kaggle account to discord here: https://kaggle.com/discord/confirmation."
   ]
  }
 ],
 "metadata": {
  "kernelspec": {
   "display_name": ".ds_venv",
   "language": "python",
   "name": "python3"
  },
  "language_info": {
   "codemirror_mode": {
    "name": "ipython",
    "version": 3
   },
   "file_extension": ".py",
   "mimetype": "text/x-python",
   "name": "python",
   "nbconvert_exporter": "python",
   "pygments_lexer": "ipython3",
   "version": "3.13.2"
  }
 },
 "nbformat": 4,
 "nbformat_minor": 2
}
