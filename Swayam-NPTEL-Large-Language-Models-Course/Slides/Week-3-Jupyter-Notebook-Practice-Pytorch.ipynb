{
 "cells": [
  {
   "cell_type": "code",
   "execution_count": 1,
   "metadata": {
    "executionInfo": {
     "elapsed": 8722,
     "status": "ok",
     "timestamp": 1744196408359,
     "user": {
      "displayName": "Umamaheswari Rayudu",
      "userId": "06277804845084631362"
     },
     "user_tz": -330
    },
    "id": "VxAkWxF0660S"
   },
   "outputs": [],
   "source": [
    "import torch\n",
    "from torch import tensor"
   ]
  },
  {
   "cell_type": "code",
   "execution_count": 2,
   "metadata": {
    "executionInfo": {
     "elapsed": 3,
     "status": "ok",
     "timestamp": 1744196416523,
     "user": {
      "displayName": "Umamaheswari Rayudu",
      "userId": "06277804845084631362"
     },
     "user_tz": -330
    },
    "id": "52QZmut7xbtG"
   },
   "outputs": [],
   "source": [
    "import numpy as np\n"
   ]
  },
  {
   "cell_type": "code",
   "execution_count": 3,
   "metadata": {
    "colab": {
     "base_uri": "https://localhost:8080/",
     "height": 36
    },
    "executionInfo": {
     "elapsed": 38,
     "status": "ok",
     "timestamp": 1744196417958,
     "user": {
      "displayName": "Umamaheswari Rayudu",
      "userId": "06277804845084631362"
     },
     "user_tz": -330
    },
    "id": "pbF_hXBd7BTZ",
    "outputId": "1aae8739-cebe-4879-9253-434195c9284c"
   },
   "outputs": [
    {
     "data": {
      "text/plain": [
       "'2.6.0+cpu'"
      ]
     },
     "execution_count": 3,
     "metadata": {},
     "output_type": "execute_result"
    }
   ],
   "source": [
    "torch.__version__"
   ]
  },
  {
   "cell_type": "code",
   "execution_count": 4,
   "metadata": {
    "colab": {
     "base_uri": "https://localhost:8080/"
    },
    "executionInfo": {
     "elapsed": 59,
     "status": "ok",
     "timestamp": 1744196419918,
     "user": {
      "displayName": "Umamaheswari Rayudu",
      "userId": "06277804845084631362"
     },
     "user_tz": -330
    },
    "id": "OGYTd7Qf0Y4k",
    "outputId": "426c15f8-3480-4b8b-c7b8-2bd5ba77a159"
   },
   "outputs": [
    {
     "data": {
      "text/plain": [
       "tensor(1)"
      ]
     },
     "execution_count": 4,
     "metadata": {},
     "output_type": "execute_result"
    }
   ],
   "source": [
    "# create a tensor with scalar value called scalar tensro\n",
    "tensor0=torch.tensor(1)\n",
    "tensor0"
   ]
  },
  {
   "cell_type": "code",
   "execution_count": 5,
   "metadata": {
    "colab": {
     "base_uri": "https://localhost:8080/"
    },
    "executionInfo": {
     "elapsed": 43,
     "status": "ok",
     "timestamp": 1744196422642,
     "user": {
      "displayName": "Umamaheswari Rayudu",
      "userId": "06277804845084631362"
     },
     "user_tz": -330
    },
    "id": "V9W-H4Zb0nvp",
    "outputId": "dcd3604c-2ca4-4db1-ae3c-7ed38d48fda7"
   },
   "outputs": [
    {
     "data": {
      "text/plain": [
       "0"
      ]
     },
     "execution_count": 5,
     "metadata": {},
     "output_type": "execute_result"
    }
   ],
   "source": [
    "tensor0.ndim # dim of scalar tensor is zero\n",
    "\n"
   ]
  },
  {
   "cell_type": "code",
   "execution_count": 6,
   "metadata": {
    "colab": {
     "base_uri": "https://localhost:8080/"
    },
    "executionInfo": {
     "elapsed": 41,
     "status": "ok",
     "timestamp": 1744196428703,
     "user": {
      "displayName": "Umamaheswari Rayudu",
      "userId": "06277804845084631362"
     },
     "user_tz": -330
    },
    "id": "mN03nLR__xFW",
    "outputId": "c8f44231-05b5-4774-a6a8-4760525389b4"
   },
   "outputs": [
    {
     "data": {
      "text/plain": [
       "tensor([1, 2, 3, 4, 9, 2])"
      ]
     },
     "execution_count": 6,
     "metadata": {},
     "output_type": "execute_result"
    }
   ],
   "source": [
    "list1 = [1, 2, 3, 4, 9, 2]\n",
    "tensor1 = torch.tensor(list1)\n",
    "tensor1"
   ]
  },
  {
   "cell_type": "code",
   "execution_count": 7,
   "metadata": {
    "colab": {
     "base_uri": "https://localhost:8080/"
    },
    "executionInfo": {
     "elapsed": 178,
     "status": "ok",
     "timestamp": 1744196439894,
     "user": {
      "displayName": "Umamaheswari Rayudu",
      "userId": "06277804845084631362"
     },
     "user_tz": -330
    },
    "id": "Y_7si0KEF-48",
    "outputId": "82707e0d-8c65-405c-a8a6-4ce40d57f0f6"
   },
   "outputs": [
    {
     "name": "stdout",
     "output_type": "stream",
     "text": [
      "tensor(0.3150)\n"
     ]
    }
   ],
   "source": [
    "x=torch.tensor(2.0,requires_grad=True)\n",
    "y=3*torch.sigmoid(x)+5\n",
    "y.backward()\n",
    "print(x.grad)"
   ]
  },
  {
   "cell_type": "code",
   "execution_count": null,
   "metadata": {
    "id": "zrf0Hh9EGXwh"
   },
   "outputs": [],
   "source": []
  },
  {
   "cell_type": "code",
   "execution_count": 8,
   "metadata": {
    "executionInfo": {
     "elapsed": 44,
     "status": "ok",
     "timestamp": 1744196442424,
     "user": {
      "displayName": "Umamaheswari Rayudu",
      "userId": "06277804845084631362"
     },
     "user_tz": -330
    },
    "id": "yB-VKLdkfVsg"
   },
   "outputs": [],
   "source": [
    "import numpy as np"
   ]
  },
  {
   "cell_type": "code",
   "execution_count": 9,
   "metadata": {
    "executionInfo": {
     "elapsed": 21,
     "status": "ok",
     "timestamp": 1744196444018,
     "user": {
      "displayName": "Umamaheswari Rayudu",
      "userId": "06277804845084631362"
     },
     "user_tz": -330
    },
    "id": "BrAliDhngm1B"
   },
   "outputs": [],
   "source": [
    "A = [[1, 5], [3, 7]]\n",
    "B = [[2, -1], [4, 2]]"
   ]
  },
  {
   "cell_type": "code",
   "execution_count": 10,
   "metadata": {
    "colab": {
     "base_uri": "https://localhost:8080/"
    },
    "executionInfo": {
     "elapsed": 16,
     "status": "ok",
     "timestamp": 1744196455289,
     "user": {
      "displayName": "Umamaheswari Rayudu",
      "userId": "06277804845084631362"
     },
     "user_tz": -330
    },
    "id": "Vh1edYW_gm6B",
    "outputId": "25825b6e-1973-424a-d2d6-083fd84d1662"
   },
   "outputs": [
    {
     "data": {
      "text/plain": [
       "np.int64(23)"
      ]
     },
     "execution_count": 10,
     "metadata": {},
     "output_type": "execute_result"
    }
   ],
   "source": [
    "np.einsum('ij, ij -> ', A, B)"
   ]
  },
  {
   "cell_type": "markdown",
   "metadata": {
    "id": "Nb41bbYm7Iv3"
   },
   "source": [
    "## Tensors"
   ]
  },
  {
   "cell_type": "markdown",
   "metadata": {
    "id": "48N5_r5e7M5g"
   },
   "source": [
    "## Creating Tensors"
   ]
  },
  {
   "cell_type": "code",
   "execution_count": 11,
   "metadata": {
    "executionInfo": {
     "elapsed": 21,
     "status": "ok",
     "timestamp": 1744196463179,
     "user": {
      "displayName": "Umamaheswari Rayudu",
      "userId": "06277804845084631362"
     },
     "user_tz": -330
    },
    "id": "YkXduOVo7LvB"
   },
   "outputs": [],
   "source": [
    "# scalar - tensor with zero dimension\n",
    "tensor0 = torch.tensor(4)\n"
   ]
  },
  {
   "cell_type": "code",
   "execution_count": 12,
   "metadata": {
    "colab": {
     "base_uri": "https://localhost:8080/"
    },
    "executionInfo": {
     "elapsed": 58,
     "status": "ok",
     "timestamp": 1744196467369,
     "user": {
      "displayName": "Umamaheswari Rayudu",
      "userId": "06277804845084631362"
     },
     "user_tz": -330
    },
    "id": "r2oc3jow_LUA",
    "outputId": "a3575f59-2c5b-4ac4-fc8f-a62e923922ab"
   },
   "outputs": [
    {
     "data": {
      "text/plain": [
       "0"
      ]
     },
     "execution_count": 12,
     "metadata": {},
     "output_type": "execute_result"
    }
   ],
   "source": [
    "tensor0.ndim ##Dimensions of a tensor"
   ]
  },
  {
   "cell_type": "code",
   "execution_count": 13,
   "metadata": {
    "colab": {
     "base_uri": "https://localhost:8080/"
    },
    "executionInfo": {
     "elapsed": 20,
     "status": "ok",
     "timestamp": 1744196501956,
     "user": {
      "displayName": "Umamaheswari Rayudu",
      "userId": "06277804845084631362"
     },
     "user_tz": -330
    },
    "id": "0ILy0PjO8cd2",
    "outputId": "e461384a-613f-4388-b101-5a1ab94548ce"
   },
   "outputs": [
    {
     "data": {
      "text/plain": [
       "tensor([6, 8, 0, 1, 2])"
      ]
     },
     "execution_count": 13,
     "metadata": {},
     "output_type": "execute_result"
    }
   ],
   "source": [
    "# vector - tensor with one dimension\n",
    "tensor1 = torch.tensor([6,8,0,1,2])\n",
    "tensor1.ndim\n",
    "tensor1"
   ]
  },
  {
   "cell_type": "code",
   "execution_count": 15,
   "metadata": {
    "colab": {
     "base_uri": "https://localhost:8080/"
    },
    "executionInfo": {
     "elapsed": 16,
     "status": "ok",
     "timestamp": 1744196506858,
     "user": {
      "displayName": "Umamaheswari Rayudu",
      "userId": "06277804845084631362"
     },
     "user_tz": -330
    },
    "id": "ly0e5WnY9KTq",
    "outputId": "c6a604b8-5600-4777-a066-12be36fc0031"
   },
   "outputs": [
    {
     "data": {
      "text/plain": [
       "2"
      ]
     },
     "execution_count": 15,
     "metadata": {},
     "output_type": "execute_result"
    }
   ],
   "source": [
    "# matrix - tensor with two dimensions\n",
    "tensor2 = torch.tensor([[0, 1, 7],[4, 2, 4]])\n",
    "tensor2.ndim"
   ]
  },
  {
   "cell_type": "markdown",
   "metadata": {
    "id": "8itXdnX6Bnk8"
   },
   "source": [
    "1. No.of sqaure brackets = Dimension of tensor (.ndim or .dim)\n",
    "2. To find shapoe and size of tensor we use .size or .shape method."
   ]
  },
  {
   "cell_type": "code",
   "execution_count": 16,
   "metadata": {
    "colab": {
     "base_uri": "https://localhost:8080/"
    },
    "executionInfo": {
     "elapsed": 7,
     "status": "ok",
     "timestamp": 1744196528037,
     "user": {
      "displayName": "Umamaheswari Rayudu",
      "userId": "06277804845084631362"
     },
     "user_tz": -330
    },
    "id": "fXl02Ra793nJ",
    "outputId": "ef800126-96ba-4d0e-947f-e1b219e057b1"
   },
   "outputs": [
    {
     "name": "stdout",
     "output_type": "stream",
     "text": [
      "vector:\n",
      "tensor([6, 8, 0, 1, 2])\tNo. of dimensions: 1\tShape: torch.Size([5])\n",
      "\n",
      "matirx:\n",
      "tensor([[0, 1, 7],\n",
      "        [4, 2, 4]])\tNo. of dimensions: 2\tShape: torch.Size([2, 3])\n",
      "\n"
     ]
    }
   ],
   "source": [
    "# Dimension and shape of a tensor\n",
    "print(f'vector:\\n{tensor1}\\tNo. of dimensions: {tensor1.ndim}\\tShape: {tensor1.shape}\\n') ##Explains how the elements are arranged across a tensor.\n",
    "print(f'matirx:\\n{tensor2}\\tNo. of dimensions: {tensor2.dim()}\\tShape: {tensor2.size()}\\n')"
   ]
  },
  {
   "cell_type": "markdown",
   "metadata": {
    "id": "n-qkRy1TvxGC"
   },
   "source": []
  },
  {
   "cell_type": "code",
   "execution_count": 17,
   "metadata": {
    "colab": {
     "base_uri": "https://localhost:8080/"
    },
    "executionInfo": {
     "elapsed": 7,
     "status": "ok",
     "timestamp": 1744196539518,
     "user": {
      "displayName": "Umamaheswari Rayudu",
      "userId": "06277804845084631362"
     },
     "user_tz": -330
    },
    "id": "mzbJWAxBriav",
    "outputId": "74e2fd70-0c1b-4836-b30d-7d5269655bb1"
   },
   "outputs": [
    {
     "data": {
      "text/plain": [
       "torch.Size([5])"
      ]
     },
     "execution_count": 17,
     "metadata": {},
     "output_type": "execute_result"
    }
   ],
   "source": [
    "tensor1.shape"
   ]
  },
  {
   "cell_type": "code",
   "execution_count": 18,
   "metadata": {
    "colab": {
     "base_uri": "https://localhost:8080/"
    },
    "executionInfo": {
     "elapsed": 43,
     "status": "ok",
     "timestamp": 1744196557785,
     "user": {
      "displayName": "Umamaheswari Rayudu",
      "userId": "06277804845084631362"
     },
     "user_tz": -330
    },
    "id": "mzYvj3tKvkff",
    "outputId": "34f9652a-be75-41d2-afee-8449e82ccc7b"
   },
   "outputs": [
    {
     "data": {
      "text/plain": [
       "2"
      ]
     },
     "execution_count": 18,
     "metadata": {},
     "output_type": "execute_result"
    }
   ],
   "source": [
    "A = torch.tensor([[1,2,3],[4,5,6],[7,8,9]]) ## Looks like Numpy\n",
    "A.ndim"
   ]
  },
  {
   "cell_type": "code",
   "execution_count": 19,
   "metadata": {
    "colab": {
     "base_uri": "https://localhost:8080/"
    },
    "executionInfo": {
     "elapsed": 30,
     "status": "ok",
     "timestamp": 1744196599964,
     "user": {
      "displayName": "Umamaheswari Rayudu",
      "userId": "06277804845084631362"
     },
     "user_tz": -330
    },
    "id": "hyXPb7laBZ7A",
    "outputId": "a80b7d88-e59f-496f-9c3c-74633edd21d3"
   },
   "outputs": [
    {
     "name": "stdout",
     "output_type": "stream",
     "text": [
      "torch.Size([2, 3])\n",
      "torch.Size([2, 3])\n"
     ]
    }
   ],
   "source": [
    "print(tensor2.shape)\n",
    "print(tensor2.size())"
   ]
  },
  {
   "cell_type": "code",
   "execution_count": 21,
   "metadata": {
    "colab": {
     "base_uri": "https://localhost:8080/"
    },
    "executionInfo": {
     "elapsed": 37,
     "status": "ok",
     "timestamp": 1744196614937,
     "user": {
      "displayName": "Umamaheswari Rayudu",
      "userId": "06277804845084631362"
     },
     "user_tz": -330
    },
    "id": "NmYEeRObwBVP",
    "outputId": "18c03527-1825-4f5a-c30b-0eec20f09af2"
   },
   "outputs": [
    {
     "data": {
      "text/plain": [
       "tensor([[0.7279, 0.4759, 0.5482, 0.3809, 0.9556],\n",
       "        [0.8351, 0.6760, 0.2090, 0.9792, 0.7595],\n",
       "        [0.8598, 0.5096, 0.1874, 0.6989, 0.6948]])"
      ]
     },
     "execution_count": 21,
     "metadata": {},
     "output_type": "execute_result"
    }
   ],
   "source": [
    "A = torch.rand((3,5))##Create a random tensor\n",
    "A"
   ]
  },
  {
   "cell_type": "code",
   "execution_count": 20,
   "metadata": {
    "colab": {
     "base_uri": "https://localhost:8080/"
    },
    "executionInfo": {
     "elapsed": 72,
     "status": "ok",
     "timestamp": 1744196613520,
     "user": {
      "displayName": "Umamaheswari Rayudu",
      "userId": "06277804845084631362"
     },
     "user_tz": -330
    },
    "id": "a7_CMUmBBAO9",
    "outputId": "5a3ca270-5133-45d9-817a-52ee9d3db76f"
   },
   "outputs": [
    {
     "data": {
      "text/plain": [
       "tensor([[2.1707e-18, 7.0952e+22, 1.7748e+28, 1.8176e+31],\n",
       "        [7.2708e+31, 5.0778e+31, 3.2608e-12, 1.7728e+28],\n",
       "        [7.0367e+22, 2.1715e-18, 1.3543e-05, 2.1762e-04]])"
      ]
     },
     "execution_count": 20,
     "metadata": {},
     "output_type": "execute_result"
    }
   ],
   "source": [
    "# Alternate ways\n",
    "size = (3,4)\n",
    "##Uninitialized entry\n",
    "tensor4 = torch.empty(size)\n",
    "tensor4"
   ]
  },
  {
   "cell_type": "code",
   "execution_count": 22,
   "metadata": {
    "colab": {
     "base_uri": "https://localhost:8080/"
    },
    "executionInfo": {
     "elapsed": 30,
     "status": "ok",
     "timestamp": 1744196625996,
     "user": {
      "displayName": "Umamaheswari Rayudu",
      "userId": "06277804845084631362"
     },
     "user_tz": -330
    },
    "id": "snZPF0d9OZ6z",
    "outputId": "db7dc2a9-3933-443c-a4c8-b6f74f1ae0a5"
   },
   "outputs": [
    {
     "data": {
      "text/plain": [
       "tensor([[0.9206, 0.4676, 0.7216, 0.6656],\n",
       "        [0.9369, 0.5715, 0.0468, 0.5253],\n",
       "        [0.8248, 0.7878, 0.0621, 0.7851]])"
      ]
     },
     "execution_count": 22,
     "metadata": {},
     "output_type": "execute_result"
    }
   ],
   "source": [
    "#creating a random tensor which follows gaussian dist\n",
    "tensor5 = torch.rand(size)\n",
    "tensor5"
   ]
  },
  {
   "cell_type": "code",
   "execution_count": 23,
   "metadata": {
    "colab": {
     "base_uri": "https://localhost:8080/"
    },
    "executionInfo": {
     "elapsed": 20,
     "status": "ok",
     "timestamp": 1744196630738,
     "user": {
      "displayName": "Umamaheswari Rayudu",
      "userId": "06277804845084631362"
     },
     "user_tz": -330
    },
    "id": "jjOUp7UXObmF",
    "outputId": "ad254cd3-6833-41b2-f29a-6cf6f0d748f3"
   },
   "outputs": [
    {
     "data": {
      "text/plain": [
       "tensor([[0., 0., 0., 0.],\n",
       "        [0., 0., 0., 0.],\n",
       "        [0., 0., 0., 0.]])"
      ]
     },
     "execution_count": 23,
     "metadata": {},
     "output_type": "execute_result"
    }
   ],
   "source": [
    "tensor6 = torch.zeros(size)\n",
    "tensor6"
   ]
  },
  {
   "cell_type": "code",
   "execution_count": 24,
   "metadata": {
    "colab": {
     "base_uri": "https://localhost:8080/"
    },
    "executionInfo": {
     "elapsed": 43,
     "status": "ok",
     "timestamp": 1744196633939,
     "user": {
      "displayName": "Umamaheswari Rayudu",
      "userId": "06277804845084631362"
     },
     "user_tz": -330
    },
    "id": "5IO1tRGSOdPx",
    "outputId": "6dec22da-0ca1-43df-a718-e67428c9cf9b"
   },
   "outputs": [
    {
     "data": {
      "text/plain": [
       "tensor([[1., 1., 1., 1.],\n",
       "        [1., 1., 1., 1.],\n",
       "        [1., 1., 1., 1.]])"
      ]
     },
     "execution_count": 24,
     "metadata": {},
     "output_type": "execute_result"
    }
   ],
   "source": [
    "tensor7 = torch.ones(size)\n",
    "tensor7"
   ]
  },
  {
   "cell_type": "code",
   "execution_count": 25,
   "metadata": {
    "colab": {
     "base_uri": "https://localhost:8080/"
    },
    "executionInfo": {
     "elapsed": 39,
     "status": "ok",
     "timestamp": 1744196635969,
     "user": {
      "displayName": "Umamaheswari Rayudu",
      "userId": "06277804845084631362"
     },
     "user_tz": -330
    },
    "id": "rtpZ4M45BeUZ",
    "outputId": "6aa42226-c102-49a9-d888-428d21a6dc77"
   },
   "outputs": [
    {
     "name": "stdout",
     "output_type": "stream",
     "text": [
      "tensor([[0.7058, 0.7276],\n",
      "        [0.3616, 0.5048],\n",
      "        [0.6604, 0.4357],\n",
      "        [0.3016, 0.3893],\n",
      "        [0.8238, 0.4459],\n",
      "        [0.5004, 0.8065]])\n"
     ]
    },
    {
     "data": {
      "text/plain": [
       "torch.float32"
      ]
     },
     "execution_count": 25,
     "metadata": {},
     "output_type": "execute_result"
    }
   ],
   "source": [
    "# Check the datatype of a tensor\n",
    "tensor4 = torch.rand(6,2)\n",
    "print(tensor4)\n",
    "tensor4.dtype"
   ]
  },
  {
   "cell_type": "code",
   "execution_count": 26,
   "metadata": {
    "colab": {
     "base_uri": "https://localhost:8080/"
    },
    "executionInfo": {
     "elapsed": 48,
     "status": "ok",
     "timestamp": 1744196639200,
     "user": {
      "displayName": "Umamaheswari Rayudu",
      "userId": "06277804845084631362"
     },
     "user_tz": -330
    },
    "id": "kdsZnnZtDqj5",
    "outputId": "021d7749-8d3c-47d4-a8f4-d2c80fd5f643"
   },
   "outputs": [
    {
     "name": "stdout",
     "output_type": "stream",
     "text": [
      "tensor([[[0.8086, 0.8257, 0.9238],\n",
      "         [0.3130, 0.5967, 0.6318]]], dtype=torch.float16)\n"
     ]
    }
   ],
   "source": [
    "# Create a tensor with a specific datatype within the particular range\n",
    "tensor5 = torch.rand(1, 2,3, dtype=torch.float16)\n",
    "print(tensor5)"
   ]
  },
  {
   "cell_type": "code",
   "execution_count": null,
   "metadata": {
    "id": "N1e_h_BMFrWx"
   },
   "outputs": [],
   "source": [
    "# Changing the datatype of a tensor\n",
    "tensor4.type(torch.double)"
   ]
  },
  {
   "cell_type": "code",
   "execution_count": 27,
   "metadata": {
    "colab": {
     "base_uri": "https://localhost:8080/"
    },
    "executionInfo": {
     "elapsed": 5,
     "status": "ok",
     "timestamp": 1744196641767,
     "user": {
      "displayName": "Umamaheswari Rayudu",
      "userId": "06277804845084631362"
     },
     "user_tz": -330
    },
    "id": "Yg0VpoWHPKLz",
    "outputId": "1c540988-3542-427d-fa79-f31b2666fe3d"
   },
   "outputs": [
    {
     "name": "stdout",
     "output_type": "stream",
     "text": [
      "[[9 3]\n",
      " [0 4]]\n",
      "tensor([[9, 3],\n",
      "        [0, 4]])\n",
      "tensor([[9, 3],\n",
      "        [0, 4]])\n",
      "<class 'torch.Tensor'> <class 'torch.Tensor'>\n"
     ]
    }
   ],
   "source": [
    "## Creating tensors from a numpy array\n",
    "import numpy as np\n",
    "\n",
    "example_array = np.array([[9,3],[0,4]])\n",
    "tensor8 = torch.from_numpy(example_array)##Creating tensors from the numpy.The example array and the tensor here,share the same memory.\n",
    "#Any modifications in the numpy array will result in the tensor as well\n",
    "tensor9 = torch.tensor(example_array)##This is not the case here.\n",
    "print(example_array)\n",
    "print(tensor8)\n",
    "print(tensor9)\n",
    "print(type(tensor9),type(tensor8))"
   ]
  },
  {
   "cell_type": "code",
   "execution_count": 28,
   "metadata": {
    "colab": {
     "base_uri": "https://localhost:8080/"
    },
    "executionInfo": {
     "elapsed": 17,
     "status": "ok",
     "timestamp": 1744196644251,
     "user": {
      "displayName": "Umamaheswari Rayudu",
      "userId": "06277804845084631362"
     },
     "user_tz": -330
    },
    "id": "EmMVVt3dPkYW",
    "outputId": "8a374315-ad6f-4d72-fe2d-66e3a8214bba"
   },
   "outputs": [
    {
     "name": "stdout",
     "output_type": "stream",
     "text": [
      "[[18  6]\n",
      " [ 0  8]]\n",
      "tensor([[18,  6],\n",
      "        [ 0,  8]])\n",
      "tensor([[9, 3],\n",
      "        [0, 4]])\n"
     ]
    }
   ],
   "source": [
    "example_array *= 2\n",
    "print(example_array)\n",
    "print(tensor8)\n",
    "print(tensor9)"
   ]
  },
  {
   "cell_type": "code",
   "execution_count": 30,
   "metadata": {
    "colab": {
     "base_uri": "https://localhost:8080/"
    },
    "executionInfo": {
     "elapsed": 29,
     "status": "ok",
     "timestamp": 1744196648056,
     "user": {
      "displayName": "Umamaheswari Rayudu",
      "userId": "06277804845084631362"
     },
     "user_tz": -330
    },
    "id": "288BxfcMP2U_",
    "outputId": "5f763548-3680-490b-d5e2-5418dcc847fb"
   },
   "outputs": [
    {
     "data": {
      "text/plain": [
       "tensor([[1., 1., 1., 1., 1.],\n",
       "        [1., 1., 1., 1., 1.],\n",
       "        [1., 1., 1., 1., 1.]])"
      ]
     },
     "execution_count": 30,
     "metadata": {},
     "output_type": "execute_result"
    }
   ],
   "source": [
    "## Creating a tensor from another tensor\n",
    "tensor10 = torch.ones_like(A)\n",
    "tensor10"
   ]
  },
  {
   "cell_type": "code",
   "execution_count": 29,
   "metadata": {
    "colab": {
     "base_uri": "https://localhost:8080/"
    },
    "executionInfo": {
     "elapsed": 310,
     "status": "ok",
     "timestamp": 1744196646531,
     "user": {
      "displayName": "Umamaheswari Rayudu",
      "userId": "06277804845084631362"
     },
     "user_tz": -330
    },
    "id": "iH6Sa2jlUZ8Y",
    "outputId": "12cff850-8347-4cfa-bb89-c19731dc6049"
   },
   "outputs": [
    {
     "data": {
      "text/plain": [
       "device(type='cuda')"
      ]
     },
     "execution_count": 29,
     "metadata": {},
     "output_type": "execute_result"
    }
   ],
   "source": [
    "# Device configuration\n",
    "device = torch.device('cuda' if torch.cuda.is_available() else 'cpu')\n",
    "tensor11 = torch.ones(3,7).to(device) # \"cpu\",\"cuda\"\n",
    "tensor11 = torch.zeros(3,7, device=device)\n",
    "device"
   ]
  },
  {
   "cell_type": "code",
   "execution_count": 31,
   "metadata": {
    "colab": {
     "base_uri": "https://localhost:8080/"
    },
    "executionInfo": {
     "elapsed": 31,
     "status": "ok",
     "timestamp": 1744196650772,
     "user": {
      "displayName": "Umamaheswari Rayudu",
      "userId": "06277804845084631362"
     },
     "user_tz": -330
    },
    "id": "5E4KRmJODJhg",
    "outputId": "27b9fcd8-9bfd-487f-ab4f-222cadb3752d"
   },
   "outputs": [
    {
     "data": {
      "text/plain": [
       "torch.Size([2, 3])"
      ]
     },
     "execution_count": 31,
     "metadata": {},
     "output_type": "execute_result"
    }
   ],
   "source": [
    "import torch\n",
    "tensor23 = torch.tensor([[2,32,7],[123,23,24]])\n",
    "tensor23.size()"
   ]
  },
  {
   "cell_type": "markdown",
   "metadata": {
    "id": "r352kbJHcskd"
   },
   "source": [
    "## Accessing elements in a tensor"
   ]
  },
  {
   "cell_type": "markdown",
   "metadata": {
    "id": "yc5H-Rr90l4_"
   },
   "source": [
    "A = [[[5,7,2, 4],[1,2,3,4]], [[5,7,2, 4],[1,2,3,4]], [[5,7,2, 4],[1,2,3,4]] ]\n",
    "A[0] 5,7,2,4\n",
    "A[0][1] 7\n",
    "A[1][0]"
   ]
  },
  {
   "cell_type": "code",
   "execution_count": 32,
   "metadata": {
    "colab": {
     "base_uri": "https://localhost:8080/"
    },
    "executionInfo": {
     "elapsed": 35,
     "status": "ok",
     "timestamp": 1744196653382,
     "user": {
      "displayName": "Umamaheswari Rayudu",
      "userId": "06277804845084631362"
     },
     "user_tz": -330
    },
    "id": "YUo-RQ501rUq",
    "outputId": "f2a689e4-a863-4e51-c5e6-4dac3d0c32da"
   },
   "outputs": [
    {
     "name": "stdout",
     "output_type": "stream",
     "text": [
      "tensor(4)\n",
      "tensor(12)\n",
      "tensor([1, 2, 3, 4])\n",
      "tensor([11, 12, 13, 14])\n",
      "tensor([[15, 17, 12, 14],\n",
      "        [11, 12, 13, 14]])\n",
      "tensor(3)\n"
     ]
    }
   ],
   "source": [
    "A = torch.tensor([[[5,7,2, 4],[1,2,3,4]], [[-5,-7,-2, -4],[-1,-2,-3,-4]], [[15,17,12, 14],[11,12,13,14]]])\n",
    "A.dim()\n",
    "A.shape #3,2,4  -- 2,1,3\n",
    "print(A[0][1][3]) # 4\n",
    "print(A[2][0][2]) #12\n",
    "print(A[0][1]) # 1,2,3,4\n",
    "print(A[2][1]) # 15,17,12,14\n",
    "print(A[2])  # error\n",
    "# print(A[1][2][3][4]) #error\n",
    "print(A[0][1][2]) # 3"
   ]
  },
  {
   "cell_type": "code",
   "execution_count": 33,
   "metadata": {
    "colab": {
     "base_uri": "https://localhost:8080/"
    },
    "executionInfo": {
     "elapsed": 35,
     "status": "ok",
     "timestamp": 1744196656178,
     "user": {
      "displayName": "Umamaheswari Rayudu",
      "userId": "06277804845084631362"
     },
     "user_tz": -330
    },
    "id": "xEAspSKTdp37",
    "outputId": "07d814ad-9c97-40f0-a7cb-84f4f4d3abd0"
   },
   "outputs": [
    {
     "data": {
      "text/plain": [
       "tensor([[0, 1, 7],\n",
       "        [4, 2, 4]])"
      ]
     },
     "execution_count": 33,
     "metadata": {},
     "output_type": "execute_result"
    }
   ],
   "source": [
    "tensor2"
   ]
  },
  {
   "cell_type": "code",
   "execution_count": 34,
   "metadata": {
    "colab": {
     "base_uri": "https://localhost:8080/"
    },
    "executionInfo": {
     "elapsed": 19,
     "status": "ok",
     "timestamp": 1744196658034,
     "user": {
      "displayName": "Umamaheswari Rayudu",
      "userId": "06277804845084631362"
     },
     "user_tz": -330
    },
    "id": "nzuzLupwcTTU",
    "outputId": "21b2e5d0-6be6-478b-e788-f8845d3f62b8"
   },
   "outputs": [
    {
     "data": {
      "text/plain": [
       "2"
      ]
     },
     "execution_count": 34,
     "metadata": {},
     "output_type": "execute_result"
    }
   ],
   "source": [
    "tensor2.dim()"
   ]
  },
  {
   "cell_type": "code",
   "execution_count": 35,
   "metadata": {
    "colab": {
     "base_uri": "https://localhost:8080/"
    },
    "executionInfo": {
     "elapsed": 38,
     "status": "ok",
     "timestamp": 1744196660021,
     "user": {
      "displayName": "Umamaheswari Rayudu",
      "userId": "06277804845084631362"
     },
     "user_tz": -330
    },
    "id": "5DItsJnJcYxP",
    "outputId": "048e9b5c-b16c-4e8a-c6c0-fa7cdaccdec7"
   },
   "outputs": [
    {
     "data": {
      "text/plain": [
       "torch.Size([2, 3])"
      ]
     },
     "execution_count": 35,
     "metadata": {},
     "output_type": "execute_result"
    }
   ],
   "source": [
    "tensor2.size()"
   ]
  },
  {
   "cell_type": "code",
   "execution_count": 36,
   "metadata": {
    "colab": {
     "base_uri": "https://localhost:8080/"
    },
    "executionInfo": {
     "elapsed": 53,
     "status": "ok",
     "timestamp": 1744196661751,
     "user": {
      "displayName": "Umamaheswari Rayudu",
      "userId": "06277804845084631362"
     },
     "user_tz": -330
    },
    "id": "AQOlC86qdxPw",
    "outputId": "d6ccd485-2789-410e-b08b-7cd99daa92be"
   },
   "outputs": [
    {
     "data": {
      "text/plain": [
       "tensor([0, 1, 7])"
      ]
     },
     "execution_count": 36,
     "metadata": {},
     "output_type": "execute_result"
    }
   ],
   "source": [
    "tensor2[0]"
   ]
  },
  {
   "cell_type": "code",
   "execution_count": 37,
   "metadata": {
    "colab": {
     "base_uri": "https://localhost:8080/"
    },
    "executionInfo": {
     "elapsed": 46,
     "status": "ok",
     "timestamp": 1744196663539,
     "user": {
      "displayName": "Umamaheswari Rayudu",
      "userId": "06277804845084631362"
     },
     "user_tz": -330
    },
    "id": "42nNMNoRd_fw",
    "outputId": "82a11cb9-4efa-4a50-b76d-06661630b8bf"
   },
   "outputs": [
    {
     "data": {
      "text/plain": [
       "tensor(4)"
      ]
     },
     "execution_count": 37,
     "metadata": {},
     "output_type": "execute_result"
    }
   ],
   "source": [
    "tensor2[1,0]"
   ]
  },
  {
   "cell_type": "code",
   "execution_count": 38,
   "metadata": {
    "colab": {
     "base_uri": "https://localhost:8080/"
    },
    "executionInfo": {
     "elapsed": 25,
     "status": "ok",
     "timestamp": 1744196665798,
     "user": {
      "displayName": "Umamaheswari Rayudu",
      "userId": "06277804845084631362"
     },
     "user_tz": -330
    },
    "id": "mdXfEoFsQ8op",
    "outputId": "87e66d30-5f1b-4b38-abf5-01a947f9b656"
   },
   "outputs": [
    {
     "data": {
      "text/plain": [
       "tensor([7, 4])"
      ]
     },
     "execution_count": 38,
     "metadata": {},
     "output_type": "execute_result"
    }
   ],
   "source": [
    "# Slicing\n",
    "tensor2[:, 2] # this will give us all the rows and only column 2"
   ]
  },
  {
   "cell_type": "code",
   "execution_count": 39,
   "metadata": {
    "colab": {
     "base_uri": "https://localhost:8080/"
    },
    "executionInfo": {
     "elapsed": 30,
     "status": "ok",
     "timestamp": 1744196667640,
     "user": {
      "displayName": "Umamaheswari Rayudu",
      "userId": "06277804845084631362"
     },
     "user_tz": -330
    },
    "id": "tR15WnphRV2r",
    "outputId": "99726645-11f5-4889-9430-ce1b7d464d47"
   },
   "outputs": [
    {
     "data": {
      "text/plain": [
       "tensor([0, 1, 7])"
      ]
     },
     "execution_count": 39,
     "metadata": {},
     "output_type": "execute_result"
    }
   ],
   "source": [
    "tensor2[0, :] # this will give us only row 0 along with all columns"
   ]
  },
  {
   "cell_type": "code",
   "execution_count": 40,
   "metadata": {
    "colab": {
     "base_uri": "https://localhost:8080/"
    },
    "executionInfo": {
     "elapsed": 25,
     "status": "ok",
     "timestamp": 1744196669700,
     "user": {
      "displayName": "Umamaheswari Rayudu",
      "userId": "06277804845084631362"
     },
     "user_tz": -330
    },
    "id": "Ali8JoSLp0vV",
    "outputId": "d8df8977-bd48-4f71-8a79-28d8a532c281"
   },
   "outputs": [
    {
     "data": {
      "text/plain": [
       "tensor([7, 4])"
      ]
     },
     "execution_count": 40,
     "metadata": {},
     "output_type": "execute_result"
    }
   ],
   "source": [
    "tensor2[:,2]"
   ]
  },
  {
   "cell_type": "markdown",
   "metadata": {
    "id": "izXBZNMqdq3L"
   },
   "source": [
    "## Basic Tensor Operations"
   ]
  },
  {
   "cell_type": "code",
   "execution_count": null,
   "metadata": {
    "id": "r4dPeipgLeCZ"
   },
   "outputs": [],
   "source": [
    "tensor12 = torch.ones(2, 3)\n",
    "tensor13 = torch.rand(2, 3)\n",
    "\n",
    "print(tensor12)\n",
    "print(tensor13)"
   ]
  },
  {
   "cell_type": "code",
   "execution_count": null,
   "metadata": {
    "id": "FTxgiFECWHhm"
   },
   "outputs": [],
   "source": [
    "# elementwise addition\n",
    "tensor14 = tensor12 + tensor13\n",
    "# torch.add(tensor12,tensor13)\n",
    "print(tensor14)\n",
    "\n",
    "# elementwise subtraction\n",
    "tensor15 = tensor12 - tensor13\n",
    "# torch.sub(tensor12, tensor13)\n",
    "print(tensor15)\n",
    "\n",
    "# elementwise multiplication\n",
    "tensor16 = tensor12 * tensor13\n",
    "# torch.mul(tensor12,tensor13)\n",
    "print(tensor16)\n",
    "\n",
    "# elementwise division\n",
    "tensor17 = tensor12 / tensor12\n",
    "# torch.div(tensor12,tensor12)\n",
    "print(tensor17)"
   ]
  },
  {
   "cell_type": "markdown",
   "metadata": {
    "id": "5442TYFVdxK0"
   },
   "source": [
    "## Manipulating a tensor"
   ]
  },
  {
   "cell_type": "markdown",
   "metadata": {
    "id": "yCh33vwjD98t"
   },
   "source": [
    "x = torch.randint('''range is specified''' 0,3,('''dimension is given here'''4,5))\n",
    "\n",
    "\n",
    "x"
   ]
  },
  {
   "cell_type": "code",
   "execution_count": null,
   "metadata": {
    "id": "NKA3bb_ZWvyZ"
   },
   "outputs": [],
   "source": [
    "x = torch.randint(0,3,(4,5))\n",
    "x"
   ]
  },
  {
   "cell_type": "code",
   "execution_count": null,
   "metadata": {
    "id": "uq-_CbV58yeB"
   },
   "outputs": [],
   "source": [
    "#here we change the shape of the tensor\n",
    "y = x.view(20)\n",
    "z = x.view(-1, 10)"
   ]
  },
  {
   "cell_type": "code",
   "execution_count": null,
   "metadata": {
    "id": "axoQ7e3xEl4-"
   },
   "outputs": [],
   "source": [
    "x"
   ]
  },
  {
   "cell_type": "code",
   "execution_count": null,
   "metadata": {
    "id": "LTSqpgG5Eg2p"
   },
   "outputs": [],
   "source": [
    "y"
   ]
  },
  {
   "cell_type": "code",
   "execution_count": null,
   "metadata": {
    "id": "L75YSK4KEhyq"
   },
   "outputs": [],
   "source": [
    "z"
   ]
  },
  {
   "cell_type": "code",
   "execution_count": null,
   "metadata": {
    "id": "lR7DoNwK8vXh"
   },
   "outputs": [],
   "source": [
    "print(x.size(), y.size(), z.size())"
   ]
  },
  {
   "cell_type": "code",
   "execution_count": null,
   "metadata": {
    "id": "WKCUGFByrTBS"
   },
   "outputs": [],
   "source": [
    "a = torch.arange(9)"
   ]
  },
  {
   "cell_type": "code",
   "execution_count": null,
   "metadata": {
    "id": "XvA8o_m2rW60"
   },
   "outputs": [],
   "source": [
    "a"
   ]
  },
  {
   "cell_type": "code",
   "execution_count": null,
   "metadata": {
    "id": "cDN7HIskOs9c"
   },
   "outputs": [],
   "source": [
    "#a = torch.arange(9)\n",
    "a = a.reshape(3,3)\n",
    "a"
   ]
  },
  {
   "cell_type": "code",
   "execution_count": null,
   "metadata": {
    "id": "CDKvcs7mOSaw"
   },
   "outputs": [],
   "source": [
    "b = torch.randint(0,9,(3,3)) ## torch.randint(low=0, high, size)\n",
    "b"
   ]
  },
  {
   "cell_type": "code",
   "execution_count": null,
   "metadata": {
    "id": "0TrzajuPPXz0"
   },
   "outputs": [],
   "source": [
    "c = torch.cat((a,b),dim=1)\n",
    "c"
   ]
  },
  {
   "cell_type": "code",
   "execution_count": null,
   "metadata": {
    "id": "GreZ98T_VI3o"
   },
   "outputs": [],
   "source": [
    "d = torch.cat((a,b),dim=0)\n",
    "d"
   ]
  },
  {
   "cell_type": "code",
   "execution_count": null,
   "metadata": {
    "id": "vCTJOZJ5PvX0"
   },
   "outputs": [],
   "source": [
    "a"
   ]
  },
  {
   "cell_type": "code",
   "execution_count": null,
   "metadata": {
    "id": "9RX3QfStYKHR"
   },
   "outputs": [],
   "source": [
    "p = torch.randint(0,9,(2,3,5))\n",
    "p\n"
   ]
  },
  {
   "cell_type": "code",
   "execution_count": null,
   "metadata": {
    "id": "AvQgpqxMT3Xw"
   },
   "outputs": [],
   "source": [
    "p.sum()"
   ]
  },
  {
   "cell_type": "code",
   "execution_count": null,
   "metadata": {
    "id": "YQaqsIROT8RB"
   },
   "outputs": [],
   "source": [
    "p.sum(dim = 0)"
   ]
  },
  {
   "cell_type": "code",
   "execution_count": null,
   "metadata": {
    "id": "WZtsuKxjYpf7"
   },
   "outputs": [],
   "source": [
    "p.sum(dim = 0).shape"
   ]
  },
  {
   "cell_type": "code",
   "execution_count": null,
   "metadata": {
    "id": "zlpHyAW0ZpWk"
   },
   "outputs": [],
   "source": [
    "p"
   ]
  },
  {
   "cell_type": "code",
   "execution_count": null,
   "metadata": {
    "id": "-YxFtzCoT_re"
   },
   "outputs": [],
   "source": [
    "p.sum(dim = 2)"
   ]
  },
  {
   "cell_type": "code",
   "execution_count": null,
   "metadata": {
    "id": "QoT36gQQZWN4"
   },
   "outputs": [],
   "source": [
    "p.sum(dim = 1).shape"
   ]
  },
  {
   "cell_type": "code",
   "execution_count": null,
   "metadata": {
    "id": "DPy7kyhxZr0Y"
   },
   "outputs": [],
   "source": [
    "p"
   ]
  },
  {
   "cell_type": "code",
   "execution_count": null,
   "metadata": {
    "id": "0ttYEkpqZZNN"
   },
   "outputs": [],
   "source": [
    "p.sum(dim = 2)"
   ]
  },
  {
   "cell_type": "code",
   "execution_count": null,
   "metadata": {
    "id": "Omf4rZc_ZdJn"
   },
   "outputs": [],
   "source": [
    "p.sum(dim = 2).shape"
   ]
  },
  {
   "cell_type": "code",
   "execution_count": null,
   "metadata": {
    "id": "_s_Cc1VkIN5V"
   },
   "outputs": [],
   "source": []
  },
  {
   "cell_type": "markdown",
   "metadata": {
    "id": "mnHGIbBnbMCT"
   },
   "source": [
    "## Autograd"
   ]
  },
  {
   "cell_type": "markdown",
   "metadata": {
    "id": "DidQTVNwLeSw"
   },
   "source": [
    "Allows us to compute gradients."
   ]
  },
  {
   "cell_type": "markdown",
   "metadata": {
    "id": "7mRemQG9ceEc"
   },
   "source": [
    "$$y=3\\sigma(x) + 5$$"
   ]
  },
  {
   "cell_type": "markdown",
   "metadata": {
    "id": "tlb518e6dLl7"
   },
   "source": [
    "$$\\frac{\\partial y}{ \\partial x} = 3*\\sigma(x)(1-\\sigma(x))$$"
   ]
  },
  {
   "cell_type": "markdown",
   "metadata": {
    "id": "H8LCmqu2dhkr"
   },
   "source": [
    "$$\\frac{\\partial y}{ \\partial x} = 3*\\sigma(2)(1-\\sigma(2))=3*0.8808*(1-0.8808)=0.3149$$"
   ]
  },
  {
   "cell_type": "markdown",
   "metadata": {
    "id": "sbUtIGNjFL8F"
   },
   "source": [
    "when we use autograd, internally there is a computational graph is being created that keeps a track of all the operations."
   ]
  },
  {
   "cell_type": "code",
   "execution_count": null,
   "metadata": {
    "id": "dNDBzDSBmGjL"
   },
   "outputs": [],
   "source": [
    "import torch\n",
    "\n",
    "x = torch.tensor(2.0)\n",
    "x.requires_grad,x.is_leaf"
   ]
  },
  {
   "cell_type": "code",
   "execution_count": null,
   "metadata": {
    "id": "aMGUmp1SmW9g"
   },
   "outputs": [],
   "source": [
    "y = 3 * torch.sigmoid(x) + 5\n",
    "y.requires_grad,y.is_leaf"
   ]
  },
  {
   "cell_type": "code",
   "execution_count": null,
   "metadata": {
    "id": "Sov55chWbZxe"
   },
   "outputs": [],
   "source": [
    "import torch\n",
    "\n",
    "x = torch.tensor(2.0, requires_grad=True)\n",
    "\n",
    "x.requires_grad, x.is_leaf"
   ]
  },
  {
   "cell_type": "code",
   "execution_count": null,
   "metadata": {
    "id": "SYmNfN4Um3qX"
   },
   "outputs": [],
   "source": [
    "\n",
    "\n",
    "y = 3 * torch.sigmoid(x) + 5\n",
    "y"
   ]
  },
  {
   "cell_type": "code",
   "execution_count": null,
   "metadata": {
    "id": "p23Y9d7OfhGE"
   },
   "outputs": [],
   "source": [
    "y.requires_grad,y.is_leaf"
   ]
  },
  {
   "cell_type": "code",
   "execution_count": null,
   "metadata": {
    "id": "zbdesTDDfhwK"
   },
   "outputs": [],
   "source": [
    "print(x.grad_fn)"
   ]
  },
  {
   "cell_type": "code",
   "execution_count": null,
   "metadata": {
    "id": "Wijukf5qgBMr"
   },
   "outputs": [],
   "source": [
    "print(y.grad_fn)"
   ]
  },
  {
   "cell_type": "code",
   "execution_count": null,
   "metadata": {
    "id": "nGYKAyMXfwF1"
   },
   "outputs": [],
   "source": [
    "print(x.grad)\n",
    "y.backward()\n",
    "print(x.grad) # dy/dx"
   ]
  },
  {
   "cell_type": "code",
   "execution_count": null,
   "metadata": {
    "id": "OOQzVLT-oebm"
   },
   "outputs": [],
   "source": [
    "x.grad.zero_()\n",
    "y = 3 * torch.sigmoid(x) + 5\n",
    "y.backward()\n",
    "x.grad\n"
   ]
  },
  {
   "cell_type": "code",
   "execution_count": null,
   "metadata": {
    "id": "LeWIzeG-iora"
   },
   "outputs": [],
   "source": [
    "a = torch.rand(2, 5, requires_grad=True)\n",
    "a"
   ]
  },
  {
   "cell_type": "code",
   "execution_count": null,
   "metadata": {
    "id": "y8gfgbSpG9aT"
   },
   "outputs": [],
   "source": [
    "b = a * a + a + 5\n",
    "b"
   ]
  },
  {
   "cell_type": "code",
   "execution_count": null,
   "metadata": {
    "id": "NkYnk5Z4H2-Q"
   },
   "outputs": [],
   "source": [
    "c = b.mean()\n",
    "c"
   ]
  },
  {
   "cell_type": "code",
   "execution_count": null,
   "metadata": {
    "id": "gTlqGFNSgkSe"
   },
   "outputs": [],
   "source": [
    "a.is_leaf,b.is_leaf,c.is_leaf"
   ]
  },
  {
   "cell_type": "code",
   "execution_count": null,
   "metadata": {
    "id": "VLeKGNAwgyFn"
   },
   "outputs": [],
   "source": [
    "b.retain_grad()"
   ]
  },
  {
   "cell_type": "code",
   "execution_count": null,
   "metadata": {
    "id": "2UnE9EnLIO2W"
   },
   "outputs": [],
   "source": [
    "print(a.grad) # Before gradient computation\n",
    "c.backward()\n",
    "print(a.grad) # After gradient computation #dc/da"
   ]
  },
  {
   "cell_type": "code",
   "execution_count": null,
   "metadata": {
    "id": "BOt8Y6uGg_xk"
   },
   "outputs": [],
   "source": [
    "b.grad"
   ]
  },
  {
   "cell_type": "markdown",
   "metadata": {
    "id": "MQP_rugHjtcG"
   },
   "source": [
    "### Gradient Descent"
   ]
  },
  {
   "cell_type": "code",
   "execution_count": null,
   "metadata": {
    "id": "B1itqZ9ylehv"
   },
   "outputs": [],
   "source": [
    "# Generate train data # y = 5 * x + 3\n",
    "x = torch.linspace(-1.0,1.0,15).reshape(15,1)\n",
    "w = torch.tensor([5])\n",
    "b = torch.tensor([3])\n",
    "y = w * x + b\n",
    "print(x.shape)"
   ]
  },
  {
   "cell_type": "code",
   "execution_count": null,
   "metadata": {
    "id": "ec6Q33_IQDXb"
   },
   "outputs": [],
   "source": [
    "print(x)# Parameter initialization\n",
    "w = torch.randn(size=(1,1), requires_grad=True)\n",
    "b = torch.randn(size=(1,1), requires_grad=True)\n",
    "print(x+b)"
   ]
  },
  {
   "cell_type": "code",
   "execution_count": null,
   "metadata": {
    "id": "KfgSrWNy0bs0"
   },
   "outputs": [],
   "source": [
    "# no require_grad =True\n",
    "# x without gradient tracking\n",
    "#x = torch.randn(size=(1,1))  # No requires_grad=True\n",
    "\n",
    "# Initialize parameters WITHOUT gradient tracking\n",
    "w = torch.randn(size=(1,1))  # No requires_grad=True\n",
    "b = torch.randn(size=(1,1))  # No requires_grad=True\n",
    "\n",
    "print(x)\n",
    "print(w)\n",
    "print(b)\n",
    "\n",
    "# Perform an operation\n",
    "y = x + b\n",
    "print(y)\n"
   ]
  },
  {
   "cell_type": "code",
   "execution_count": null,
   "metadata": {
    "id": "XoQ5l1cqjrhb"
   },
   "outputs": [],
   "source": [
    "def forward(x):\n",
    "    return w * x + b\n",
    "\n",
    "def loss(y, y_pred):\n",
    "    return ((y_pred - y)**2).mean()\n",
    "\n",
    "print('w:',w)\n",
    "print('b:',b)"
   ]
  },
  {
   "cell_type": "code",
   "execution_count": null,
   "metadata": {
    "id": "hdKOO88oj3Ir"
   },
   "outputs": [],
   "source": [
    "# Define hyperparameters\n",
    "learning_rate = 0.03\n",
    "num_epochs = 180\n",
    "\n",
    "# Train the model\n",
    "for epoch in range(num_epochs):\n",
    "    y_pred = forward(x)\n",
    "\n",
    "    l = loss(y, y_pred)\n",
    "\n",
    "    l.backward()\n",
    "\n",
    "    with torch.no_grad():\n",
    "      w -= learning_rate * w.grad\n",
    "      b -= learning_rate * b.grad\n",
    "\n",
    "    w.grad.zero_()\n",
    "    b.grad.zero_()\n",
    "\n",
    "\n",
    "    if (epoch+1) % 10 == 0:\n",
    "        print(f'epoch {epoch+1}: w = {w.item():.3f}, b = {b.item():.3f},loss = {l.item():.3f}')"
   ]
  },
  {
   "cell_type": "markdown",
   "metadata": {
    "id": "xUn8YynVydjP"
   },
   "source": [
    "## Neural Networks"
   ]
  },
  {
   "cell_type": "code",
   "execution_count": null,
   "metadata": {
    "id": "mgCSzNOHydJy"
   },
   "outputs": [],
   "source": [
    "import torch\n",
    "import torch.nn as nn\n",
    "import torch.optim as optim\n",
    "\n",
    "from torchvision import datasets,transforms"
   ]
  },
  {
   "cell_type": "markdown",
   "metadata": {
    "id": "kIc9pbvPX-ev"
   },
   "source": []
  },
  {
   "cell_type": "code",
   "execution_count": null,
   "metadata": {
    "id": "ik2W138nEb9X"
   },
   "outputs": [],
   "source": [
    "device = torch.device('cuda' if torch.cuda.is_available() else 'cpu')"
   ]
  },
  {
   "cell_type": "code",
   "execution_count": null,
   "metadata": {
    "id": "Gg4ZLyenHkGz"
   },
   "outputs": [],
   "source": [
    "print(dir(datasets))"
   ]
  },
  {
   "cell_type": "code",
   "execution_count": null,
   "metadata": {
    "id": "0MmpY18FxIqm"
   },
   "outputs": [],
   "source": [
    "## Hyper-parameters\n",
    "hidden_size = 400 #number of neurons in hidden layer\n",
    "num_epochs = 8\n",
    "batch_size = 32\n",
    "learning_rate = 0.0001"
   ]
  },
  {
   "cell_type": "code",
   "execution_count": null,
   "metadata": {
    "id": "VetrSviG0V4H"
   },
   "outputs": [],
   "source": [
    "## Load the MNIST dataset\n",
    "train_dataset = datasets.CIFAR100(root='./data', train=True, download=True, transform=transforms.ToTensor())\n",
    "test_dataset = datasets.CIFAR100(root='./data', train=False, download=True, transform=transforms.ToTensor())"
   ]
  },
  {
   "cell_type": "code",
   "execution_count": null,
   "metadata": {
    "id": "c0h-djeY1To4"
   },
   "outputs": [],
   "source": [
    "## Training Data\n",
    "#print(train_dataset)\n",
    "print(train_dataset.classes)\n",
    "print(train_dataset.data.shape)\n",
    "\n"
   ]
  },
  {
   "cell_type": "code",
   "execution_count": null,
   "metadata": {
    "id": "tjDag3Hp2jB7"
   },
   "outputs": [],
   "source": [
    "## Test Data\n",
    "print(test_dataset.classes)\n",
    "print(test_dataset.data.shape)\n",
    "print(test_dataset.targets)"
   ]
  },
  {
   "cell_type": "code",
   "execution_count": null,
   "metadata": {
    "id": "taemlQ95FeR2"
   },
   "outputs": [],
   "source": [
    "in_features = 3072 # Input size - 28 x 28 we'll flatten this 28 * 28\n",
    "out_features = 100 # no. of classes"
   ]
  },
  {
   "cell_type": "code",
   "execution_count": null,
   "metadata": {
    "id": "PjwnlYS3x9mf"
   },
   "outputs": [],
   "source": [
    "train_dataloader = torch.utils.data.DataLoader(dataset=train_dataset, batch_size = batch_size, shuffle=True)\n",
    "\n",
    "test_dataloader = torch.utils.data.DataLoader(dataset=test_dataset, batch_size = batch_size, shuffle=False)"
   ]
  },
  {
   "cell_type": "code",
   "execution_count": null,
   "metadata": {
    "id": "jk5wE3gB28yO"
   },
   "outputs": [],
   "source": [
    "import matplotlib.pyplot as plt\n",
    "\n",
    "data = iter(train_dataloader)\n",
    "imgs,labels = next(data)\n",
    "print(imgs.shape)\n",
    "print(labels.shape)\n",
    "\n",
    "for i in range(20):\n",
    "    plt.subplot(4,5,i+1)\n",
    "    plt.imshow(imgs[i].permute(1, 2, 0))\n",
    "    plt.xlabel(f'Label = {labels[i].item()}')\n",
    "plt.show()"
   ]
  },
  {
   "cell_type": "code",
   "execution_count": null,
   "metadata": {
    "id": "qw7zfOSI877B"
   },
   "outputs": [],
   "source": [
    "class BasicNeuralNet(nn.Module):\n",
    "  #define constructor which is the skeleton of nn\n",
    "    def __init__(self,hidden_size):\n",
    "      #call the constructor of te base class\n",
    "        super(BasicNeuralNet, self).__init__()\n",
    "        self.hidden_size = hidden_size\n",
    "        self.layer1 = nn.Linear(in_features, self.hidden_size)\n",
    "        self.layer2 = nn.Linear(self.hidden_size, out_features)\n",
    "\n",
    "    def forward(self, x):\n",
    "      #here x is the input\n",
    "        out = self.layer1(x)\n",
    "        out = torch.relu(out)\n",
    "        out = self.layer2(out)\n",
    "        #problem is multiclass classification so for this we will use cross entropy loss\n",
    "        return out\n",
    "\n",
    "model = BasicNeuralNet(hidden_size).to(device)"
   ]
  },
  {
   "cell_type": "code",
   "execution_count": null,
   "metadata": {
    "id": "ysdP1TaHGZgW"
   },
   "outputs": [],
   "source": [
    "w1,b1,w2,b2 = list(model.parameters())"
   ]
  },
  {
   "cell_type": "code",
   "execution_count": null,
   "metadata": {
    "id": "Wg0j1WgdSHTz"
   },
   "outputs": [],
   "source": [
    "# First linear layer\n",
    "# print(w1,b1)\n",
    "print(w1.shape) #(out_features,in_feat\n",
    "print(b1.shape)"
   ]
  },
  {
   "cell_type": "code",
   "execution_count": null,
   "metadata": {
    "id": "TKgt0AodSVDO"
   },
   "outputs": [],
   "source": [
    "# Second linear layer\n",
    "# print(w2,b2)\n",
    "# print(w2.shape)\n",
    "# print(b2.shape)"
   ]
  },
  {
   "cell_type": "code",
   "execution_count": null,
   "metadata": {
    "id": "_0kc0IAEEo31"
   },
   "outputs": [],
   "source": [
    "criterion = nn.CrossEntropyLoss() # Loss\n",
    "optimizer = optim.Adam(model.parameters(), lr=learning_rate)"
   ]
  },
  {
   "cell_type": "code",
   "execution_count": null,
   "metadata": {
    "id": "Cs7gzjxVEs8x"
   },
   "outputs": [],
   "source": [
    "# Training\n",
    "total_steps = len(train_dataloader)\n",
    "for epoch in range(num_epochs):\n",
    "    for i, (images, labels) in enumerate(train_dataloader):\n",
    "        images = images.reshape(-1, 32*32*3).to(device)\n",
    "        labels = labels.to(device)\n",
    "\n",
    "        # Forward pass\n",
    "        outputs = model(images)\n",
    "\n",
    "        loss = criterion(outputs, labels)\n",
    "\n",
    "        # Backpropagation\n",
    "        loss.backward()\n",
    "\n",
    "        optimizer.step() # Parameter update\n",
    "        optimizer.zero_grad()\n",
    "\n",
    "        if i % 300 == 0:\n",
    "            print (f'Epoch {epoch}, Step {i}/{total_steps}, Loss: {loss.item():.3f}')"
   ]
  },
  {
   "cell_type": "code",
   "execution_count": null,
   "metadata": {
    "id": "Hek2mZrxE8eo"
   },
   "outputs": [],
   "source": [
    "# Test the model\n",
    "with torch.no_grad():\n",
    "    correct = 0\n",
    "    num_samples = len(test_dataloader.dataset)\n",
    "\n",
    "    for imgs, labels in test_dataloader:\n",
    "        imgs = imgs.reshape(-1, 32*32*3).to(device)\n",
    "\n",
    "        labels = labels.to(device)\n",
    "\n",
    "        outputs = model(imgs)\n",
    "\n",
    "        _, predicted = torch.max(outputs, 1)\n",
    "        correct += (predicted == labels).sum().item()\n",
    "\n",
    "\n",
    "    acc = correct / num_samples\n",
    "    print(f'Accuracy: {100*acc} %')"
   ]
  },
  {
   "cell_type": "code",
   "execution_count": null,
   "metadata": {
    "id": "rAE5n-8DvigW"
   },
   "outputs": [],
   "source": []
  }
 ],
 "metadata": {
  "accelerator": "GPU",
  "colab": {
   "gpuType": "T4",
   "provenance": []
  },
  "kernelspec": {
   "display_name": ".ds_venv",
   "language": "python",
   "name": "python3"
  },
  "language_info": {
   "codemirror_mode": {
    "name": "ipython",
    "version": 3
   },
   "file_extension": ".py",
   "mimetype": "text/x-python",
   "name": "python",
   "nbconvert_exporter": "python",
   "pygments_lexer": "ipython3",
   "version": "3.13.3"
  }
 },
 "nbformat": 4,
 "nbformat_minor": 0
}
